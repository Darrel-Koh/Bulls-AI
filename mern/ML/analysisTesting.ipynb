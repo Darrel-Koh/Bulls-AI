{
 "cells": [
  {
   "cell_type": "code",
   "execution_count": null,
   "metadata": {},
   "outputs": [],
   "source": [
    "from pymongo import MongoClient\n",
    "import os\n",
    "import pymongo\n",
    "import pandas as pd\n",
    "import requests\n",
    "\n",
    "# Create a client\n",
    "# client = MongoClient('mongodb://localhost:27017/')\n",
    "# Read the connection string from the config.env file\n",
    "with open('../server/config.env', 'r') as file:\n",
    "    connection_string = file.read().strip()\n",
    "\n",
    "connection_string = connection_string.replace('ATLAS_URI=', '')\n",
    "# print(connection_string)\n",
    "\n",
    "# Create a client\n",
    "client = pymongo.MongoClient(connection_string)"
   ]
  },
  {
   "cell_type": "code",
   "execution_count": null,
   "metadata": {},
   "outputs": [],
   "source": [
    "# Connect to your database\n",
    "db = client['sample_analytics']\n",
    "\n",
    "# Get your collection\n",
    "collection = db['accounts']\n",
    "\n",
    "# Retrieve all documents\n",
    "documents = collection.find()\n",
    "\n",
    "# Print the top 10 documents\n",
    "for document in documents[:10]:\n",
    "    print(document)"
   ]
  },
  {
   "cell_type": "code",
   "execution_count": null,
   "metadata": {},
   "outputs": [],
   "source": [
    "# replace the \"demo\" apikey below with your own key from https://www.alphavantage.co/support/#api-key\n",
    "url = 'https://www.alphavantage.co/query?function=TOP_GAINERS_LOSERS&apikey=X4JSLVEG434TJWZX'\n",
    "r = requests.get(url)\n",
    "data = r.json()\n",
    "\n",
    "print(data)"
   ]
  },
  {
   "cell_type": "code",
   "execution_count": null,
   "metadata": {},
   "outputs": [],
   "source": [
    "# Convert the data to a dataframe\n",
    "import pandas as pd\n",
    "\n",
    "# Convert the data to a dataframe\n",
    "df = pd.DataFrame.from_dict(data)\n",
    "# print(df)\n",
    "\n",
    "df.info()\n",
    "df.describe()"
   ]
  },
  {
   "cell_type": "code",
   "execution_count": null,
   "metadata": {},
   "outputs": [],
   "source": [
    "# Remove metadata and last_updated columns\n",
    "df = df.drop(['metadata', 'last_updated'], axis=1)\n",
    "df"
   ]
  },
  {
   "cell_type": "code",
   "execution_count": null,
   "metadata": {},
   "outputs": [],
   "source": [
    "# Within the top_gainers column, there is a JSON formatted string that needs to be converted to a dataframe\n",
    "df_top_gainers = pd.DataFrame.from_records(df['top_gainers'])\n",
    "df_top_gainers"
   ]
  },
  {
   "cell_type": "code",
   "execution_count": null,
   "metadata": {},
   "outputs": [],
   "source": [
    "def get_stock_data(symbol, api_key):\n",
    "    url = f'https://www.alphavantage.co/query?function=TIME_SERIES_DAILY&symbol={symbol}&apikey={api_key}'\n",
    "    r = requests.get(url)\n",
    "    data = r.json()\n",
    "    df = pd.DataFrame(data['Time Series (Daily)']).T  # Transpose the data\n",
    "    df.index = pd.to_datetime(df.index)  # Convert the index to datetime\n",
    "    return df\n",
    "\n",
    "# Example usage:\n",
    "df = get_stock_data('MSFT', 'X4JSLVEG434TJWZX')\n",
    "df"
   ]
  },
  {
   "cell_type": "code",
   "execution_count": null,
   "metadata": {},
   "outputs": [],
   "source": [
    "# List of stock symbols\n",
    "symbols = ['AAPL', 'GOOG', 'TSLA', 'MSFT']  # Replace with your list of symbols\n",
    "\n",
    "# DataFrame to store all the data\n",
    "all_data = pd.DataFrame()\n",
    "\n",
    "for symbol in symbols:\n",
    "    print(f\"Getting data for {symbol}\")\n",
    "    df = get_stock_data(symbol, 'X4JSLVEG434TJWZX')\n",
    "    df['Symbol'] = symbol  # Add a column for the stock symbol\n",
    "    all_data = pd.concat([all_data, df])\n",
    "\n",
    "# Now all_data contains the data for all the stocks\n",
    "\n",
    "# Print the first 5 rows\n",
    "all_data.head()\n",
    "\n",
    "# Save the data to a csv file\n",
    "# all_data.to_csv('stock_data.csv')"
   ]
  },
  {
   "cell_type": "code",
   "execution_count": null,
   "metadata": {},
   "outputs": [],
   "source": [
    "import yfinance as yf\n",
    "\n",
    "# List of stock symbols\n",
    "symbols = ['D05.SI', 'U11.SI', 'O39.SI']  # Replace with your list of symbols\n",
    "\n",
    "\n",
    "# DataFrame to store all the data\n",
    "all_data = pd.DataFrame()\n",
    "\n",
    "for symbol in symbols:\n",
    "    print(f\"Getting data for {symbol}\")\n",
    "    df = yf.download(symbol, start='2020-01-01', end='2022-12-31')\n",
    "    df['Symbol'] = symbol  # Add a column for the stock symbol\n",
    "    all_data = pd.concat([all_data, df])\n",
    "\n",
    "# Now all_data contains the data for all the stocks\n",
    "\n",
    "\n",
    "# Save the data to a CSV file\n",
    "# all_data.to_csv('stock_data.csv')"
   ]
  },
  {
   "cell_type": "code",
   "execution_count": null,
   "metadata": {},
   "outputs": [],
   "source": [
    "# Print the first 5 rows of each stock symbol\n",
    "for symbol in symbols:\n",
    "    print(f\"Data for {symbol}\")\n",
    "    print(all_data[all_data['Symbol'] == symbol].head())\n"
   ]
  },
  {
   "cell_type": "code",
   "execution_count": null,
   "metadata": {},
   "outputs": [],
   "source": [
    "# Read in the data from the txt file\n",
    "path = \"C:/Github/FYP/Data/Complete-List-of-Listed-Companies-on-Singapore-Stock-Exchange-052923.csv\"\n",
    "\n",
    "# Read the data into a DataFrame\n",
    "SGXdf = pd.read_csv(path)\n"
   ]
  },
  {
   "cell_type": "code",
   "execution_count": null,
   "metadata": {},
   "outputs": [],
   "source": [
    "SGXdf['Code']\n",
    "\n",
    "# add .SI to the stock code\n",
    "SGXdf['Code'] = SGXdf['Code'] + '.SI'\n",
    "\n",
    "# Print the first 5 rows\n",
    "SGXdf.head()"
   ]
  },
  {
   "cell_type": "code",
   "execution_count": 77,
   "metadata": {},
   "outputs": [
    {
     "name": "stdout",
     "output_type": "stream",
     "text": [
      "Processing sector Real Estate\n",
      "Processing sector Industrial & Commercial Services\n",
      "Processing sector Technology Equipment\n",
      "Processing sector Industrial Goods\n",
      "Processing sector Food & Beverages\n",
      "Processing sector Energy - Fossil Fuels\n",
      "Processing sector Mineral Resources\n",
      "Processing sector nan\n",
      "Processing sector Cyclical Consumer Services\n",
      "Processing sector Holding Companies\n",
      "Processing sector Healthcare Services\n",
      "Processing sector Software & IT Services\n",
      "Processing sector Banking & Investment Services\n",
      "Processing sector Chemicals\n",
      "Processing sector Utilities\n",
      "Processing sector Transportation\n",
      "Processing sector Cyclical Consumer Products\n",
      "Processing sector Retailers\n",
      "Processing sector Telecommunications Services\n",
      "Processing sector Automobiles & Auto Parts\n",
      "Processing sector Personal & Household Products & Services\n",
      "Processing sector Food & Drug Retailing\n",
      "Processing sector Collective Investments\n",
      "Processing sector Insurance\n",
      "Processing sector Pharmaceuticals & Medical Research\n",
      "Processing sector Financial Technology (Fintech) & Infrastructure\n",
      "Processing sector Applied Resources\n",
      "Processing sector Consumer Goods Conglomerates\n",
      "Processing sector Academic & Educational Services\n",
      "Processing sector Renewable Energy\n"
     ]
    }
   ],
   "source": [
    "# Get the unique sectors\n",
    "sectors = SGXdf['Sector'].unique()\n",
    "\n",
    "# Create a dictionary to store the data for each sector\n",
    "sector_data = {}\n",
    "\n",
    "for sector in sectors:\n",
    "    print(f\"Processing sector {sector}\")\n",
    "    \n",
    "    df_sector = SGXdf[SGXdf['Sector'] == sector]\n",
    "    \n",
    "    # Store the sector data in the dictionary\n",
    "    sector_data[sector] = df_sector\n",
    "\n",
    "# Now sector_data is a dictionary where the keys are sectors and the values are DataFrames with the data for each sector"
   ]
  },
  {
   "cell_type": "code",
   "execution_count": 78,
   "metadata": {},
   "outputs": [
    {
     "data": {
      "text/html": [
       "<div>\n",
       "<style scoped>\n",
       "    .dataframe tbody tr th:only-of-type {\n",
       "        vertical-align: middle;\n",
       "    }\n",
       "\n",
       "    .dataframe tbody tr th {\n",
       "        vertical-align: top;\n",
       "    }\n",
       "\n",
       "    .dataframe thead th {\n",
       "        text-align: right;\n",
       "    }\n",
       "</style>\n",
       "<table border=\"1\" class=\"dataframe\">\n",
       "  <thead>\n",
       "    <tr style=\"text-align: right;\">\n",
       "      <th></th>\n",
       "      <th>S.No.</th>\n",
       "      <th>Trading Name</th>\n",
       "      <th>Code</th>\n",
       "      <th>Sector</th>\n",
       "    </tr>\n",
       "  </thead>\n",
       "  <tbody>\n",
       "    <tr>\n",
       "      <th>0</th>\n",
       "      <td>1</td>\n",
       "      <td>3Cnergy</td>\n",
       "      <td>502.SI</td>\n",
       "      <td>Real Estate</td>\n",
       "    </tr>\n",
       "    <tr>\n",
       "      <th>16</th>\n",
       "      <td>17</td>\n",
       "      <td>Adventus</td>\n",
       "      <td>5EF.SI</td>\n",
       "      <td>Real Estate</td>\n",
       "    </tr>\n",
       "    <tr>\n",
       "      <th>22</th>\n",
       "      <td>23</td>\n",
       "      <td>AIMS APAC Reit</td>\n",
       "      <td>O5RU.SI</td>\n",
       "      <td>Real Estate</td>\n",
       "    </tr>\n",
       "    <tr>\n",
       "      <th>23</th>\n",
       "      <td>24</td>\n",
       "      <td>AIMS Property</td>\n",
       "      <td>BVP.SI</td>\n",
       "      <td>Real Estate</td>\n",
       "    </tr>\n",
       "    <tr>\n",
       "      <th>28</th>\n",
       "      <td>29</td>\n",
       "      <td>Alset</td>\n",
       "      <td>40V.SI</td>\n",
       "      <td>Real Estate</td>\n",
       "    </tr>\n",
       "  </tbody>\n",
       "</table>\n",
       "</div>"
      ],
      "text/plain": [
       "    S.No.    Trading Name     Code       Sector\n",
       "0       1         3Cnergy   502.SI  Real Estate\n",
       "16     17        Adventus   5EF.SI  Real Estate\n",
       "22     23  AIMS APAC Reit  O5RU.SI  Real Estate\n",
       "23     24   AIMS Property   BVP.SI  Real Estate\n",
       "28     29           Alset   40V.SI  Real Estate"
      ]
     },
     "execution_count": 78,
     "metadata": {},
     "output_type": "execute_result"
    }
   ],
   "source": [
    "# Print the first 5 rows of the 'Real Estate' sector\n",
    "sector_data['Real Estate'].head()"
   ]
  },
  {
   "cell_type": "code",
   "execution_count": 86,
   "metadata": {},
   "outputs": [
    {
     "data": {
      "text/plain": [
       "array(['Real Estate', 'Industrial & Commercial Services',\n",
       "       'Technology Equipment', 'Industrial Goods', 'Food & Beverages',\n",
       "       'Energy - Fossil Fuels', 'Mineral Resources', nan,\n",
       "       'Cyclical Consumer Services', 'Holding Companies',\n",
       "       'Healthcare Services', 'Software & IT Services',\n",
       "       'Banking & Investment Services', 'Chemicals', 'Utilities',\n",
       "       'Transportation', 'Cyclical Consumer Products', 'Retailers',\n",
       "       'Telecommunications Services', 'Automobiles & Auto Parts',\n",
       "       'Personal & Household Products & Services',\n",
       "       'Food & Drug Retailing', 'Collective Investments', 'Insurance',\n",
       "       'Pharmaceuticals & Medical Research',\n",
       "       'Financial Technology (Fintech) & Infrastructure',\n",
       "       'Applied Resources', 'Consumer Goods Conglomerates',\n",
       "       'Academic & Educational Services', 'Renewable Energy'],\n",
       "      dtype=object)"
      ]
     },
     "execution_count": 86,
     "metadata": {},
     "output_type": "execute_result"
    }
   ],
   "source": [
    "# Get the unique sectors\n",
    "sectors = SGXdf['Sector'].unique()\n",
    "sectors"
   ]
  },
  {
   "cell_type": "code",
   "execution_count": 98,
   "metadata": {},
   "outputs": [
    {
     "data": {
      "text/html": [
       "<div>\n",
       "<style scoped>\n",
       "    .dataframe tbody tr th:only-of-type {\n",
       "        vertical-align: middle;\n",
       "    }\n",
       "\n",
       "    .dataframe tbody tr th {\n",
       "        vertical-align: top;\n",
       "    }\n",
       "\n",
       "    .dataframe thead th {\n",
       "        text-align: right;\n",
       "    }\n",
       "</style>\n",
       "<table border=\"1\" class=\"dataframe\">\n",
       "  <thead>\n",
       "    <tr style=\"text-align: right;\">\n",
       "      <th></th>\n",
       "      <th>S.No.</th>\n",
       "      <th>Trading Name</th>\n",
       "      <th>Code</th>\n",
       "      <th>Sector</th>\n",
       "    </tr>\n",
       "  </thead>\n",
       "  <tbody>\n",
       "    <tr>\n",
       "      <th>0</th>\n",
       "      <td>1</td>\n",
       "      <td>3Cnergy</td>\n",
       "      <td>502.SI</td>\n",
       "      <td>Real Estate</td>\n",
       "    </tr>\n",
       "    <tr>\n",
       "      <th>1</th>\n",
       "      <td>2</td>\n",
       "      <td>5E Resources</td>\n",
       "      <td>NLC.SI</td>\n",
       "      <td>Industrial &amp; Commercial Services</td>\n",
       "    </tr>\n",
       "    <tr>\n",
       "      <th>6</th>\n",
       "      <td>7</td>\n",
       "      <td>Abundance Intl</td>\n",
       "      <td>541.SI</td>\n",
       "      <td>Industrial &amp; Commercial Services</td>\n",
       "    </tr>\n",
       "    <tr>\n",
       "      <th>9</th>\n",
       "      <td>10</td>\n",
       "      <td>Acesian Partners</td>\n",
       "      <td>5FW.SI</td>\n",
       "      <td>Industrial &amp; Commercial Services</td>\n",
       "    </tr>\n",
       "    <tr>\n",
       "      <th>11</th>\n",
       "      <td>12</td>\n",
       "      <td>AcroMeta</td>\n",
       "      <td>43F.SI</td>\n",
       "      <td>Industrial &amp; Commercial Services</td>\n",
       "    </tr>\n",
       "  </tbody>\n",
       "</table>\n",
       "</div>"
      ],
      "text/plain": [
       "    S.No.      Trading Name    Code                            Sector\n",
       "0       1           3Cnergy  502.SI                       Real Estate\n",
       "1       2      5E Resources  NLC.SI  Industrial & Commercial Services\n",
       "6       7    Abundance Intl  541.SI  Industrial & Commercial Services\n",
       "9      10  Acesian Partners  5FW.SI  Industrial & Commercial Services\n",
       "11     12          AcroMeta  43F.SI  Industrial & Commercial Services"
      ]
     },
     "execution_count": 98,
     "metadata": {},
     "output_type": "execute_result"
    }
   ],
   "source": [
    "# Combine data for Real Estate and Industrial & Commercial Services sectors\n",
    "RealAssetsSectors = ['Real Estate', 'Industrial & Commercial Services']\n",
    "RealAssetsDF = SGXdf[SGXdf['Sector'].isin(RealAssetsSectors)]\n",
    "\n",
    "# Verify that the data is correct\n",
    "RealAssetsDF.head()"
   ]
  },
  {
   "cell_type": "code",
   "execution_count": null,
   "metadata": {},
   "outputs": [],
   "source": [
    "# call the yfinance API to get the stock data for the stock codes\n",
    "\n",
    "# Get the stock codes from the 'Code' column of your DataFrame\n",
    "symbols = SGXdf['Code'].tolist()\n",
    "\n",
    "# DataFrame to store all the data\n",
    "all_data = pd.DataFrame()\n",
    "\n",
    "for symbol in symbols:\n",
    "    print(f\"Getting data for {symbol}\")\n",
    "    data = yf.download(symbol, start='2020-01-01', end='2022-12-31')\n",
    "    data['Symbol'] = symbol  # Add a column for the stock symbol\n",
    "    all_data = pd.concat([all_data, data])\n",
    "\n",
    "# Now all_data contains the data for all the stocks\n",
    "\n",
    "# Print the first 5 rows\n",
    "print(all_data.head())"
   ]
  },
  {
   "cell_type": "code",
   "execution_count": null,
   "metadata": {},
   "outputs": [],
   "source": [
    "# Print the first 5 rows of each stock symbol\n",
    "for symbol in symbols:\n",
    "    print(f\"Data for {symbol}\")\n",
    "    print(all_data[all_data['Symbol'] == symbol].head())\n"
   ]
  },
  {
   "cell_type": "code",
   "execution_count": null,
   "metadata": {},
   "outputs": [],
   "source": [
    "# Creating a moving average feature\n",
    "df['MA_5'] = df['Close'].rolling(window=5).mean()\n",
    "df['MA_10'] = df['Close'].rolling(window=10).mean()"
   ]
  }
 ],
 "metadata": {
  "kernelspec": {
   "display_name": "tfdml_plugin",
   "language": "python",
   "name": "python3"
  },
  "language_info": {
   "codemirror_mode": {
    "name": "ipython",
    "version": 3
   },
   "file_extension": ".py",
   "mimetype": "text/x-python",
   "name": "python",
   "nbconvert_exporter": "python",
   "pygments_lexer": "ipython3",
   "version": "3.9.18"
  }
 },
 "nbformat": 4,
 "nbformat_minor": 2
}

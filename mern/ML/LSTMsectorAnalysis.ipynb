{
 "cells": [
  {
   "cell_type": "code",
   "execution_count": 28,
   "metadata": {},
   "outputs": [],
   "source": [
    "# Import Libraries\n",
    "\n",
    "import yfinance as yf\n",
    "import pandas as pd\n",
    "import numpy as np\n",
    "import matplotlib.pyplot as plt\n",
    "import matplotlib.dates as mdates\n",
    "from datetime import datetime\n",
    "import os\n",
    "from sklearn.preprocessing import MinMaxScaler\n",
    "from tensorflow.keras.models import Sequential\n",
    "from tensorflow.keras.layers import Dense, RNN, LSTMCell\n",
    "import yfinance as yf\n",
    "import pandas as pd\n",
    "from datetime import datetime"
   ]
  },
  {
   "cell_type": "code",
   "execution_count": 54,
   "metadata": {},
   "outputs": [
    {
     "name": "stdout",
     "output_type": "stream",
     "text": [
      "[*********************100%%**********************]  1 of 1 completed\n",
      "Epoch 1/2\n",
      "940/940 [==============================] - 122s 129ms/step - loss: 0.0044\n",
      "Epoch 2/2\n",
      "940/940 [==============================] - 121s 129ms/step - loss: 0.0015\n",
      "[*********************100%%**********************]  1 of 1 completed\n",
      "Epoch 1/2\n",
      "940/940 [==============================] - 122s 129ms/step - loss: 0.0046\n",
      "Epoch 2/2\n",
      "940/940 [==============================] - 121s 128ms/step - loss: 0.0020\n"
     ]
    }
   ],
   "source": [
    "import yfinance as yf\n",
    "import numpy as np\n",
    "from sklearn.preprocessing import MinMaxScaler\n",
    "from tensorflow.keras.models import Sequential\n",
    "from tensorflow.keras.layers import LSTM, Dense\n",
    "\n",
    "# Function to train LSTM model\n",
    "def train_lstm_model(symbol):\n",
    "    # Download historical data\n",
    "    data = yf.download(symbol, start='2020-01-01', end='2023-12-31')\n",
    "    \n",
    "    # Extract 'Close' prices\n",
    "    close_prices = data['Close'].values.reshape(-1, 1)\n",
    "\n",
    "    # Scale the data\n",
    "    scaler = MinMaxScaler(feature_range=(0, 1))\n",
    "    scaled_data = scaler.fit_transform(close_prices)\n",
    "\n",
    "    # Create training dataset\n",
    "    x_train, y_train = [], []\n",
    "    for i in range(60, len(scaled_data)):\n",
    "        x_train.append(scaled_data[i-60:i, 0])\n",
    "        y_train.append(scaled_data[i, 0])\n",
    "\n",
    "    x_train, y_train = np.array(x_train), np.array(y_train)\n",
    "\n",
    "    # Reshape for LSTM model\n",
    "    x_train = np.reshape(x_train, (x_train.shape[0], x_train.shape[1], 1))\n",
    "\n",
    "    # Build the LSTM model\n",
    "    model = Sequential()\n",
    "    model.add(RNN(LSTMCell(128), return_sequences=True, input_shape=(x_train.shape[1], 1)))\n",
    "    model.add(RNN(LSTMCell(64), return_sequences=False))\n",
    "    model.add(Dense(units=25))\n",
    "    model.add(Dense(units=1))\n",
    "\n",
    "    # Compile the model\n",
    "    model.compile(optimizer='adam', loss='mean_squared_error')\n",
    "\n",
    "    # Train the model\n",
    "    model.fit(x_train, y_train, batch_size=1, epochs=2)\n",
    "\n",
    "    return model, scaler\n",
    "\n",
    "# Train models for multiple stocks\n",
    "stock_symbols = [\"AAPL\", \"GOOGL\"]\n",
    "trained_models = {}\n",
    "\n",
    "for symbol in stock_symbols:\n",
    "    model, scaler = train_lstm_model(symbol)\n",
    "    trained_models[symbol] = {\"model\": model, \"scaler\": scaler}\n"
   ]
  },
  {
   "cell_type": "code",
   "execution_count": 63,
   "metadata": {},
   "outputs": [
    {
     "name": "stdout",
     "output_type": "stream",
     "text": [
      "[*********************100%%**********************]  1 of 1 completed"
     ]
    },
    {
     "name": "stdout",
     "output_type": "stream",
     "text": [
      "\n"
     ]
    },
    {
     "ename": "ValueError",
     "evalue": "in user code:\n\n    File \"c:\\Users\\koh46\\anaconda3\\envs\\tfdml_plugin\\lib\\site-packages\\keras\\engine\\training.py\", line 2041, in predict_function  *\n        return step_function(self, iterator)\n    File \"c:\\Users\\koh46\\anaconda3\\envs\\tfdml_plugin\\lib\\site-packages\\keras\\engine\\training.py\", line 2027, in step_function  **\n        outputs = model.distribute_strategy.run(run_step, args=(data,))\n    File \"c:\\Users\\koh46\\anaconda3\\envs\\tfdml_plugin\\lib\\site-packages\\keras\\engine\\training.py\", line 2015, in run_step  **\n        outputs = model.predict_step(data)\n    File \"c:\\Users\\koh46\\anaconda3\\envs\\tfdml_plugin\\lib\\site-packages\\keras\\engine\\training.py\", line 1983, in predict_step\n        return self(x, training=False)\n    File \"c:\\Users\\koh46\\anaconda3\\envs\\tfdml_plugin\\lib\\site-packages\\keras\\utils\\traceback_utils.py\", line 70, in error_handler\n        raise e.with_traceback(filtered_tb) from None\n    File \"c:\\Users\\koh46\\anaconda3\\envs\\tfdml_plugin\\lib\\site-packages\\keras\\engine\\input_spec.py\", line 295, in assert_input_compatibility\n        raise ValueError(\n\n    ValueError: Input 0 of layer \"sequential_12\" is incompatible with the layer: expected shape=(None, 60, 1), found shape=(None, 13, 1)\n",
     "output_type": "error",
     "traceback": [
      "\u001b[1;31m---------------------------------------------------------------------------\u001b[0m",
      "\u001b[1;31mValueError\u001b[0m                                Traceback (most recent call last)",
      "Cell \u001b[1;32mIn[63], line 20\u001b[0m\n\u001b[0;32m     18\u001b[0m \u001b[38;5;66;03m# Make predictions using the corresponding model\u001b[39;00m\n\u001b[0;32m     19\u001b[0m model_for_prediction \u001b[38;5;241m=\u001b[39m trained_models[selected_stock][\u001b[38;5;124m\"\u001b[39m\u001b[38;5;124mmodel\u001b[39m\u001b[38;5;124m\"\u001b[39m]\n\u001b[1;32m---> 20\u001b[0m predicted_scaled_price \u001b[38;5;241m=\u001b[39m \u001b[43mmodel_for_prediction\u001b[49m\u001b[38;5;241;43m.\u001b[39;49m\u001b[43mpredict\u001b[49m\u001b[43m(\u001b[49m\u001b[43mscaled_input_data\u001b[49m\u001b[43m)\u001b[49m\n\u001b[0;32m     22\u001b[0m \u001b[38;5;66;03m# Inverse transform to get the predicted price in the original scale\u001b[39;00m\n\u001b[0;32m     23\u001b[0m predicted_price \u001b[38;5;241m=\u001b[39m scaler_for_prediction\u001b[38;5;241m.\u001b[39minverse_transform(predicted_scaled_price)\n",
      "File \u001b[1;32mc:\\Users\\koh46\\anaconda3\\envs\\tfdml_plugin\\lib\\site-packages\\keras\\utils\\traceback_utils.py:70\u001b[0m, in \u001b[0;36mfilter_traceback.<locals>.error_handler\u001b[1;34m(*args, **kwargs)\u001b[0m\n\u001b[0;32m     67\u001b[0m     filtered_tb \u001b[38;5;241m=\u001b[39m _process_traceback_frames(e\u001b[38;5;241m.\u001b[39m__traceback__)\n\u001b[0;32m     68\u001b[0m     \u001b[38;5;66;03m# To get the full stack trace, call:\u001b[39;00m\n\u001b[0;32m     69\u001b[0m     \u001b[38;5;66;03m# `tf.debugging.disable_traceback_filtering()`\u001b[39;00m\n\u001b[1;32m---> 70\u001b[0m     \u001b[38;5;28;01mraise\u001b[39;00m e\u001b[38;5;241m.\u001b[39mwith_traceback(filtered_tb) \u001b[38;5;28;01mfrom\u001b[39;00m \u001b[38;5;28;01mNone\u001b[39;00m\n\u001b[0;32m     71\u001b[0m \u001b[38;5;28;01mfinally\u001b[39;00m:\n\u001b[0;32m     72\u001b[0m     \u001b[38;5;28;01mdel\u001b[39;00m filtered_tb\n",
      "File \u001b[1;32m~\\AppData\\Local\\Temp\\__autograph_generated_file2h3kixy2.py:15\u001b[0m, in \u001b[0;36mouter_factory.<locals>.inner_factory.<locals>.tf__predict_function\u001b[1;34m(iterator)\u001b[0m\n\u001b[0;32m     13\u001b[0m \u001b[38;5;28;01mtry\u001b[39;00m:\n\u001b[0;32m     14\u001b[0m     do_return \u001b[38;5;241m=\u001b[39m \u001b[38;5;28;01mTrue\u001b[39;00m\n\u001b[1;32m---> 15\u001b[0m     retval_ \u001b[38;5;241m=\u001b[39m ag__\u001b[38;5;241m.\u001b[39mconverted_call(ag__\u001b[38;5;241m.\u001b[39mld(step_function), (ag__\u001b[38;5;241m.\u001b[39mld(\u001b[38;5;28mself\u001b[39m), ag__\u001b[38;5;241m.\u001b[39mld(iterator)), \u001b[38;5;28;01mNone\u001b[39;00m, fscope)\n\u001b[0;32m     16\u001b[0m \u001b[38;5;28;01mexcept\u001b[39;00m:\n\u001b[0;32m     17\u001b[0m     do_return \u001b[38;5;241m=\u001b[39m \u001b[38;5;28;01mFalse\u001b[39;00m\n",
      "\u001b[1;31mValueError\u001b[0m: in user code:\n\n    File \"c:\\Users\\koh46\\anaconda3\\envs\\tfdml_plugin\\lib\\site-packages\\keras\\engine\\training.py\", line 2041, in predict_function  *\n        return step_function(self, iterator)\n    File \"c:\\Users\\koh46\\anaconda3\\envs\\tfdml_plugin\\lib\\site-packages\\keras\\engine\\training.py\", line 2027, in step_function  **\n        outputs = model.distribute_strategy.run(run_step, args=(data,))\n    File \"c:\\Users\\koh46\\anaconda3\\envs\\tfdml_plugin\\lib\\site-packages\\keras\\engine\\training.py\", line 2015, in run_step  **\n        outputs = model.predict_step(data)\n    File \"c:\\Users\\koh46\\anaconda3\\envs\\tfdml_plugin\\lib\\site-packages\\keras\\engine\\training.py\", line 1983, in predict_step\n        return self(x, training=False)\n    File \"c:\\Users\\koh46\\anaconda3\\envs\\tfdml_plugin\\lib\\site-packages\\keras\\utils\\traceback_utils.py\", line 70, in error_handler\n        raise e.with_traceback(filtered_tb) from None\n    File \"c:\\Users\\koh46\\anaconda3\\envs\\tfdml_plugin\\lib\\site-packages\\keras\\engine\\input_spec.py\", line 295, in assert_input_compatibility\n        raise ValueError(\n\n    ValueError: Input 0 of layer \"sequential_12\" is incompatible with the layer: expected shape=(None, 60, 1), found shape=(None, 13, 1)\n"
     ]
    }
   ],
   "source": [
    "# User selects a stock\n",
    "selected_stock = \"AAPL\"\n",
    "\n",
    "# Download recent data for prediction\n",
    "data_for_prediction = yf.download(selected_stock, start='2023-12-01', end='2023-12-20')\n",
    "input_data = data_for_prediction['Close'].values.reshape(-1, 1)\n",
    "\n",
    "# Scale input data using the corresponding scaler\n",
    "scaler_for_prediction = trained_models[selected_stock][\"scaler\"]\n",
    "scaled_input_data = scaler_for_prediction.transform(input_data)\n",
    "\n",
    "# Reshape for LSTM model input\n",
    "num_time_steps = min(len(data_for_prediction), 60)\n",
    "scaled_input_data = np.reshape(scaled_input_data, (1, num_time_steps, 1))\n",
    "\n",
    "# Make predictions using the corresponding model\n",
    "model_for_prediction = trained_models[selected_stock][\"model\"]\n",
    "predicted_scaled_price = model_for_prediction.predict(scaled_input_data)\n",
    "\n",
    "# Inverse transform to get the predicted price in the original scale\n",
    "predicted_price = scaler_for_prediction.inverse_transform(predicted_scaled_price)\n",
    "\n",
    "# Print the predicted price\n",
    "print(f\"Predicted Closing Price for {selected_stock}: {predicted_price[0][0]}\")\n"
   ]
  },
  {
   "cell_type": "code",
   "execution_count": null,
   "metadata": {},
   "outputs": [],
   "source": []
  }
 ],
 "metadata": {
  "kernelspec": {
   "display_name": "tf_env",
   "language": "python",
   "name": "python3"
  },
  "language_info": {
   "codemirror_mode": {
    "name": "ipython",
    "version": 3
   },
   "file_extension": ".py",
   "mimetype": "text/x-python",
   "name": "python",
   "nbconvert_exporter": "python",
   "pygments_lexer": "ipython3",
   "version": "3.9.18"
  }
 },
 "nbformat": 4,
 "nbformat_minor": 2
}
